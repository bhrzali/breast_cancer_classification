{
 "cells": [
  {
   "cell_type": "markdown",
   "metadata": {},
   "source": [
    "## Breast Cancer Tumor Classification (Malignant or Benign) - Work in progress"
   ]
  },
  {
   "cell_type": "markdown",
   "metadata": {},
   "source": [
    "Behroz Ahmad Ali<br>\n",
    "bhrz.ali@gmail.com"
   ]
  },
  {
   "cell_type": "markdown",
   "metadata": {},
   "source": [
    "One of the old methods of diagnosis of Breast Cancer is carried out by Fine Needle Aspiration procedure. A thin and hollow needle is inserted into a lump and a sample of cells is extracted. The specimen is then studied under a microscope and the following measurements are made.\n",
    "\n",
    "<b>1: Sample code number: id number</b>\n",
    "\n",
    "<b>2: Clump Thickness: 1 - 10</b>\n",
    "\n",
    "Determines if the cells are mono-layered or multi-layered\n",
    "\n",
    "<b>3: Uniformity of Cell Size: 1 - 10</b> \n",
    "\n",
    "A measure of the variance of the sizes of the cells. Cancer cells vary in size.\n",
    "\n",
    "<b>4: Uniformity of Cell Shape: 1 - 10</b>\n",
    "\n",
    "A measure of the variance in the shapes of the cells. Cancer cells vary in shape.\n",
    "\n",
    "<b>5: Marginal Adhesion: 1 - 10</b>\n",
    "\n",
    "Assess the adhesion ability of the cells. Cancer cells tend not to stick together.\n",
    "\n",
    "<b>6: Single Epithelial Cell Size: 1 - 10</b>\n",
    "\n",
    "Determines if the epithelial cells have signifcantly enlarged.\n",
    "\n",
    "<b>7: Bare Nuclei: 1 - 10</b> \n",
    "\n",
    "A measurement of the proportion of the number of cells not covered by cytoplasm to those that are.\n",
    "\n",
    "<b>8: Bland Chromatin: 1 - 10</b> \n",
    "\n",
    "A rating of the texture of nucleus from fine to coarse.\n",
    "\n",
    "<b>9: Normal Nucleoli: 1 - 10</b> \n",
    "\n",
    "Nucleoli are small structures present in the nucleus. Normally nucleoli are small and barely visible. However, it becomes visible and plentiful in case of malignancy. A higher value of this attribute would indicate a higher chance of malignancy.\n",
    "\n",
    "<b>10: Mitoses: 1 - 10</b>\n",
    "\n",
    "Describes the level of cell division.\n",
    "\n",
    "<b>11: Class: (2 for benign, 4 for malignant)</b>\n",
    "\n",
    "The dataset that we will be using here has been created by Dr. WIlliam H. Wolberg (physician), University of Wisconsin Hospitals, Madison, Wisconsin, USA. This dataset contains all of the above attributes.\n",
    "Here is the link to the dataset repository on UCI website.\n",
    "https://archive.ics.uci.edu/ml/datasets/Breast+Cancer+Wisconsin+(Original)\n",
    "\n",
    "We will use the dataset to create a model that can identify whether a tumor is malignant(cancerous) or benign.\n",
    "\n",
    "We will use the following three methods for this classification problem and assess the performance of each method.\n",
    "\n",
    "<b>1. Logistic Regression</b><br>\n",
    "<b>2. Linear Discriminant Analysis</b><br>\n",
    "<b>3. K-nearest neighbors</b>"
   ]
  },
  {
   "cell_type": "code",
   "execution_count": 18,
   "metadata": {
    "collapsed": false,
    "scrolled": true
   },
   "outputs": [
    {
     "data": {
      "text/html": [
       "<ol class=list-inline>\n",
       "\t<li>'V2'</li>\n",
       "\t<li>'V3'</li>\n",
       "\t<li>'V4'</li>\n",
       "\t<li>'V5'</li>\n",
       "\t<li>'V6'</li>\n",
       "\t<li>'V7'</li>\n",
       "\t<li>'V8'</li>\n",
       "\t<li>'V9'</li>\n",
       "\t<li>'V10'</li>\n",
       "\t<li>'V11'</li>\n",
       "</ol>\n"
      ],
      "text/latex": [
       "\\begin{enumerate*}\n",
       "\\item 'V2'\n",
       "\\item 'V3'\n",
       "\\item 'V4'\n",
       "\\item 'V5'\n",
       "\\item 'V6'\n",
       "\\item 'V7'\n",
       "\\item 'V8'\n",
       "\\item 'V9'\n",
       "\\item 'V10'\n",
       "\\item 'V11'\n",
       "\\end{enumerate*}\n"
      ],
      "text/markdown": [
       "1. 'V2'\n",
       "2. 'V3'\n",
       "3. 'V4'\n",
       "4. 'V5'\n",
       "5. 'V6'\n",
       "6. 'V7'\n",
       "7. 'V8'\n",
       "8. 'V9'\n",
       "9. 'V10'\n",
       "10. 'V11'\n",
       "\n",
       "\n"
      ],
      "text/plain": [
       " [1] \"V2\"  \"V3\"  \"V4\"  \"V5\"  \"V6\"  \"V7\"  \"V8\"  \"V9\"  \"V10\" \"V11\""
      ]
     },
     "metadata": {},
     "output_type": "display_data"
    }
   ],
   "source": [
    "breast_data = read.csv(\"datasets/breast-cancer-wisconsin.csv\",header=F,na.strings=\"?\")\n",
    "breast_data = na.omit(breast_data)\n",
    "#Removing the first column. It contains the sample code number\n",
    "breast_data = breast_data[,-1]\n",
    "#Making the final attribute qualitative\n",
    "breast_data$V11 = as.factor(breast_data$V11)\n",
    "#The names of the columns of the attributes are arranged in the same order as above.\n",
    "names(breast_data)"
   ]
  },
  {
   "cell_type": "code",
   "execution_count": 12,
   "metadata": {
    "collapsed": false,
    "scrolled": true
   },
   "outputs": [
    {
     "data": {
      "text/html": [
       "683"
      ],
      "text/latex": [
       "683"
      ],
      "text/markdown": [
       "683"
      ],
      "text/plain": [
       "[1] 683"
      ]
     },
     "metadata": {},
     "output_type": "display_data"
    }
   ],
   "source": [
    "nrow(breast_data)"
   ]
  },
  {
   "cell_type": "code",
   "execution_count": 19,
   "metadata": {
    "collapsed": true
   },
   "outputs": [],
   "source": [
    "set.seed(1)\n",
    "#creating a training dataset\n",
    "train = sample(nrow(breast_data),550)"
   ]
  },
  {
   "cell_type": "markdown",
   "metadata": {},
   "source": [
    "# Logistic Regression"
   ]
  },
  {
   "cell_type": "code",
   "execution_count": 15,
   "metadata": {
    "collapsed": false
   },
   "outputs": [],
   "source": [
    "glm.fit = glm(V11~.,data=breast_data,family=binomial,subset=train)\n",
    "glm.prob = predict(glm.fit,newdata=breast_data[-train,],type=\"response\")\n",
    "glm.pred = rep(2,length(glm.prob))\n",
    "glm.pred[glm.prob>0.5]=4"
   ]
  },
  {
   "cell_type": "code",
   "execution_count": 16,
   "metadata": {
    "collapsed": false,
    "scrolled": true
   },
   "outputs": [
    {
     "data": {
      "text/html": [
       "2.25563909774436"
      ],
      "text/latex": [
       "2.25563909774436"
      ],
      "text/markdown": [
       "2.25563909774436"
      ],
      "text/plain": [
       "[1] 2.255639"
      ]
     },
     "metadata": {},
     "output_type": "display_data"
    }
   ],
   "source": [
    "#error rate\n",
    "mean(glm.pred!=breast_data[-train,]$V11)*100"
   ]
  },
  {
   "cell_type": "code",
   "execution_count": 17,
   "metadata": {
    "collapsed": false
   },
   "outputs": [
    {
     "data": {
      "text/html": [
       "97.7443609022556"
      ],
      "text/latex": [
       "97.7443609022556"
      ],
      "text/markdown": [
       "97.7443609022556"
      ],
      "text/plain": [
       "[1] 97.74436"
      ]
     },
     "metadata": {},
     "output_type": "display_data"
    }
   ],
   "source": [
    "#accuracy\n",
    "mean(glm.pred==breast_data[-train,]$V11)*100"
   ]
  },
  {
   "cell_type": "code",
   "execution_count": 22,
   "metadata": {
    "collapsed": false
   },
   "outputs": [
    {
     "data": {
      "text/plain": [
       "        \n",
       "glm.pred  2  4\n",
       "       2 91  2\n",
       "       4  1 39"
      ]
     },
     "metadata": {},
     "output_type": "display_data"
    }
   ],
   "source": [
    "#confusion table 2=benign 4=malignant\n",
    "table(glm.pred,breast_data[-train,]$V11)"
   ]
  },
  {
   "cell_type": "code",
   "execution_count": 24,
   "metadata": {
    "collapsed": false,
    "scrolled": false
   },
   "outputs": [
    {
     "data": {
      "text/html": [
       "98.9130434782609"
      ],
      "text/latex": [
       "98.9130434782609"
      ],
      "text/markdown": [
       "98.9130434782609"
      ],
      "text/plain": [
       "[1] 98.91304"
      ]
     },
     "metadata": {},
     "output_type": "display_data"
    }
   ],
   "source": [
    "91/(91+1)*100"
   ]
  },
  {
   "cell_type": "markdown",
   "metadata": {},
   "source": [
    "As we can see the model predicts 98.9% of benign cases correctly"
   ]
  },
  {
   "cell_type": "code",
   "execution_count": 25,
   "metadata": {
    "collapsed": false,
    "scrolled": true
   },
   "outputs": [
    {
     "data": {
      "text/html": [
       "95.1219512195122"
      ],
      "text/latex": [
       "95.1219512195122"
      ],
      "text/markdown": [
       "95.1219512195122"
      ],
      "text/plain": [
       "[1] 95.12195"
      ]
     },
     "metadata": {},
     "output_type": "display_data"
    }
   ],
   "source": [
    "39/(39+2)*100"
   ]
  },
  {
   "cell_type": "markdown",
   "metadata": {},
   "source": [
    "And it predicts 95.1% of the malignant cases correctly."
   ]
  },
  {
   "cell_type": "markdown",
   "metadata": {},
   "source": [
    "# Linear Discriminant Analysis"
   ]
  },
  {
   "cell_type": "code",
   "execution_count": 30,
   "metadata": {
    "collapsed": false
   },
   "outputs": [],
   "source": [
    "library(MASS)\n",
    "lda.fit = lda(V11~.,data=breast_data[train,])\n",
    "lda.pred = predict(lda.fit,newdata=breast_data[-train,])"
   ]
  },
  {
   "cell_type": "code",
   "execution_count": 34,
   "metadata": {
    "collapsed": false
   },
   "outputs": [
    {
     "data": {
      "text/html": [
       "2.25563909774436"
      ],
      "text/latex": [
       "2.25563909774436"
      ],
      "text/markdown": [
       "2.25563909774436"
      ],
      "text/plain": [
       "[1] 2.255639"
      ]
     },
     "metadata": {},
     "output_type": "display_data"
    }
   ],
   "source": [
    "#error rate\n",
    "mean(lda.pred$class!=breast_data[-train,]$V11)*100"
   ]
  },
  {
   "cell_type": "code",
   "execution_count": 35,
   "metadata": {
    "collapsed": false
   },
   "outputs": [
    {
     "data": {
      "text/html": [
       "97.7443609022556"
      ],
      "text/latex": [
       "97.7443609022556"
      ],
      "text/markdown": [
       "97.7443609022556"
      ],
      "text/plain": [
       "[1] 97.74436"
      ]
     },
     "metadata": {},
     "output_type": "display_data"
    }
   ],
   "source": [
    "#accuracy\n",
    "mean(lda.pred$class==breast_data[-train,]$V11)*100"
   ]
  },
  {
   "cell_type": "code",
   "execution_count": 41,
   "metadata": {
    "collapsed": false
   },
   "outputs": [
    {
     "data": {
      "text/plain": [
       "   \n",
       "     2  4\n",
       "  2 92  3\n",
       "  4  0 38"
      ]
     },
     "metadata": {},
     "output_type": "display_data"
    }
   ],
   "source": [
    "table(lda.pred$class,breast_data[-train,]$V11)"
   ]
  },
  {
   "cell_type": "code",
   "execution_count": 42,
   "metadata": {
    "collapsed": false
   },
   "outputs": [
    {
     "data": {
      "text/html": [
       "100"
      ],
      "text/latex": [
       "100"
      ],
      "text/markdown": [
       "100"
      ],
      "text/plain": [
       "[1] 100"
      ]
     },
     "metadata": {},
     "output_type": "display_data"
    }
   ],
   "source": [
    "92/92*100"
   ]
  },
  {
   "cell_type": "markdown",
   "metadata": {},
   "source": [
    "As we can see the lda model predicts 100% of the benign cases correctly."
   ]
  },
  {
   "cell_type": "code",
   "execution_count": 43,
   "metadata": {
    "collapsed": false
   },
   "outputs": [
    {
     "data": {
      "text/html": [
       "92.6829268292683"
      ],
      "text/latex": [
       "92.6829268292683"
      ],
      "text/markdown": [
       "92.6829268292683"
      ],
      "text/plain": [
       "[1] 92.68293"
      ]
     },
     "metadata": {},
     "output_type": "display_data"
    }
   ],
   "source": [
    "38/(38+3)*100"
   ]
  },
  {
   "cell_type": "markdown",
   "metadata": {},
   "source": [
    "And it predicts 92.68% of the malignant cases correctly."
   ]
  },
  {
   "cell_type": "markdown",
   "metadata": {},
   "source": [
    "# K-nearest neighbor"
   ]
  },
  {
   "cell_type": "code",
   "execution_count": 75,
   "metadata": {
    "collapsed": false
   },
   "outputs": [],
   "source": [
    "library(class)\n",
    "train.Y = breast_data[train,]$V11\n",
    "train_data = breast_data[train,-ncol(breast_data)]\n",
    "test_data = breast_data[-train,-ncol(breast_data)]\n",
    "test.Y = breast_data[-train,]$V11\n",
    "#knn method with k=4\n",
    "knn.pred = knn(train_data,test_data,train.Y,k=4)"
   ]
  },
  {
   "cell_type": "code",
   "execution_count": 76,
   "metadata": {
    "collapsed": false
   },
   "outputs": [
    {
     "data": {
      "text/html": [
       "2.25563909774436"
      ],
      "text/latex": [
       "2.25563909774436"
      ],
      "text/markdown": [
       "2.25563909774436"
      ],
      "text/plain": [
       "[1] 2.255639"
      ]
     },
     "metadata": {},
     "output_type": "display_data"
    }
   ],
   "source": [
    "##error rate\n",
    "mean(knn.pred!=test.Y)*100"
   ]
  },
  {
   "cell_type": "code",
   "execution_count": 77,
   "metadata": {
    "collapsed": false
   },
   "outputs": [
    {
     "data": {
      "text/html": [
       "97.7443609022556"
      ],
      "text/latex": [
       "97.7443609022556"
      ],
      "text/markdown": [
       "97.7443609022556"
      ],
      "text/plain": [
       "[1] 97.74436"
      ]
     },
     "metadata": {},
     "output_type": "display_data"
    }
   ],
   "source": [
    "##accuracy\n",
    "mean(knn.pred==test.Y)*100"
   ]
  },
  {
   "cell_type": "code",
   "execution_count": 78,
   "metadata": {
    "collapsed": false
   },
   "outputs": [
    {
     "data": {
      "text/plain": [
       "        test.Y\n",
       "knn.pred  2  4\n",
       "       2 90  1\n",
       "       4  2 40"
      ]
     },
     "metadata": {},
     "output_type": "display_data"
    }
   ],
   "source": [
    "table(knn.pred,test.Y)"
   ]
  },
  {
   "cell_type": "code",
   "execution_count": 82,
   "metadata": {
    "collapsed": false
   },
   "outputs": [
    {
     "data": {
      "text/html": [
       "97.5609756097561"
      ],
      "text/latex": [
       "97.5609756097561"
      ],
      "text/markdown": [
       "97.5609756097561"
      ],
      "text/plain": [
       "[1] 97.56098"
      ]
     },
     "metadata": {},
     "output_type": "display_data"
    }
   ],
   "source": [
    "40/(40+1)*100"
   ]
  },
  {
   "cell_type": "markdown",
   "metadata": {},
   "source": [
    "As we can see the KNN method with K=4 predicts 97.6% of the benign cases correctly"
   ]
  },
  {
   "cell_type": "code",
   "execution_count": 80,
   "metadata": {
    "collapsed": false
   },
   "outputs": [
    {
     "data": {
      "text/html": [
       "97.8260869565217"
      ],
      "text/latex": [
       "97.8260869565217"
      ],
      "text/markdown": [
       "97.8260869565217"
      ],
      "text/plain": [
       "[1] 97.82609"
      ]
     },
     "metadata": {},
     "output_type": "display_data"
    }
   ],
   "source": [
    "90/(90+2)*100"
   ]
  },
  {
   "cell_type": "markdown",
   "metadata": {},
   "source": [
    "And it predicts 97.8% of the malignant cases correctly"
   ]
  },
  {
   "cell_type": "code",
   "execution_count": null,
   "metadata": {
    "collapsed": true
   },
   "outputs": [],
   "source": []
  }
 ],
 "metadata": {
  "kernelspec": {
   "display_name": "R",
   "language": "R",
   "name": "ir"
  },
  "language_info": {
   "codemirror_mode": "r",
   "file_extension": ".r",
   "mimetype": "text/x-r-source",
   "name": "R",
   "pygments_lexer": "r",
   "version": "3.2.2"
  }
 },
 "nbformat": 4,
 "nbformat_minor": 0
}
