{
 "cells": [
  {
   "cell_type": "markdown",
   "metadata": {},
   "source": [
    "## Breast Cancer Tumor Classification (Work in progress)"
   ]
  },
  {
   "cell_type": "markdown",
   "metadata": {},
   "source": [
    "One of the old methods of diagnosis of Breast Cancer is carried out by Fine Needle Aspiration procedure. A thin and hollow needle is inserted into a lump and a sample of cells is extracted. The specimen is then studied under a microscope and the following measurements are made.\n",
    "\n",
    "<b>1: Sample code number: id number</b>\n",
    "\n",
    "<b>2: Clump Thickness: 1 - 10</b>\n",
    "\n",
    "Determines if the cells are mono-layered or multi-layered\n",
    "\n",
    "<b>3: Uniformity of Cell Size: 1 - 10</b> \n",
    "\n",
    "A measure of the variance of the sizes of the cells. Cancer cells vary in size.\n",
    "\n",
    "<b>4: Uniformity of Cell Shape: 1 - 10</b>\n",
    "\n",
    "A measure of the variance in the shapes of the cells. Cancer cells vary in shape.\n",
    "\n",
    "<b>5: Marginal Adhesion: 1 - 10</b>\n",
    "\n",
    "Assess the adhesion ability of the cells. Cancer cells tend not to stick together.\n",
    "\n",
    "<b>6: Single Epithelial Cell Size: 1 - 10</b>\n",
    "\n",
    "Determines if the epithelial cells have signifcantly enlarged.\n",
    "\n",
    "<b>7: Bare Nuclei: 1 - 10</b> \n",
    "\n",
    "A measurement of the proportion of the number of cells not covered by cytoplasm to those that are.\n",
    "\n",
    "<b>8: Bland Chromatin: 1 - 10</b> \n",
    "\n",
    "A rating of the texture of nucleus from fine to coarse.\n",
    "\n",
    "<b>9: Normal Nucleoli: 1 - 10</b> \n",
    "\n",
    "Nucleoli are small structures present in the nucleus. Normally nucleoli are small and barely visible. However, it becomes visible and plentiful in case of malignancy. A higher value of this attribute would indicate a higher chance of malignancy.\n",
    "\n",
    "<b>10: Mitoses: 1 - 10</b>\n",
    "\n",
    "Describes the level of cell division.\n",
    "\n",
    "<b>11: Class: (2 for benign, 4 for malignant)</b>\n",
    "\n",
    "The dataset has been created by Dr. WIlliam H. Wolberg (physician), University of Wisconsin Hospitals, Madison, Wisconsin, USA. \n",
    "Here is the link to this repository on UCI website.\n",
    "https://archive.ics.uci.edu/ml/datasets/Breast+Cancer+Wisconsin+(Original)\n",
    "\n",
    "Here we will use this dataset to create a model that can identify whether a tumor is malignant(cancerous) or benign.\n",
    "\n",
    "We will use three methods for classification problem and assess the performance of each method.\n",
    "\n",
    "The three methods that we will use are as following.<br>\n",
    "<b>1. Logistic Regression</b><br>\n",
    "<b>2. Linear Discriminant Analysis</b><br>\n",
    "<b>3. K-nearest neighbors</b>"
   ]
  },
  {
   "cell_type": "code",
   "execution_count": 2,
   "metadata": {
    "collapsed": false
   },
   "outputs": [
    {
     "data": {
      "text/html": [
       "<ol class=list-inline>\n",
       "\t<li>'V2'</li>\n",
       "\t<li>'V3'</li>\n",
       "\t<li>'V4'</li>\n",
       "\t<li>'V5'</li>\n",
       "\t<li>'V6'</li>\n",
       "\t<li>'V7'</li>\n",
       "\t<li>'V8'</li>\n",
       "\t<li>'V9'</li>\n",
       "\t<li>'V10'</li>\n",
       "\t<li>'V11'</li>\n",
       "</ol>\n"
      ],
      "text/latex": [
       "\\begin{enumerate*}\n",
       "\\item 'V2'\n",
       "\\item 'V3'\n",
       "\\item 'V4'\n",
       "\\item 'V5'\n",
       "\\item 'V6'\n",
       "\\item 'V7'\n",
       "\\item 'V8'\n",
       "\\item 'V9'\n",
       "\\item 'V10'\n",
       "\\item 'V11'\n",
       "\\end{enumerate*}\n"
      ],
      "text/markdown": [
       "1. 'V2'\n",
       "2. 'V3'\n",
       "3. 'V4'\n",
       "4. 'V5'\n",
       "5. 'V6'\n",
       "6. 'V7'\n",
       "7. 'V8'\n",
       "8. 'V9'\n",
       "9. 'V10'\n",
       "10. 'V11'\n",
       "\n",
       "\n"
      ],
      "text/plain": [
       " [1] \"V2\"  \"V3\"  \"V4\"  \"V5\"  \"V6\"  \"V7\"  \"V8\"  \"V9\"  \"V10\" \"V11\""
      ]
     },
     "metadata": {},
     "output_type": "display_data"
    }
   ],
   "source": [
    "breast_data = read.csv(\"datasets/breast-cancer-wisconsin.csv\",header=F,na.strings=\"?\")\n",
    "breast_data = na.omit(breast_data)\n",
    "breast_data = breast_data[,-1]\n",
    "names(breast_data)"
   ]
  },
  {
   "cell_type": "code",
   "execution_count": 3,
   "metadata": {
    "collapsed": false
   },
   "outputs": [
    {
     "data": {
      "text/html": [
       "683"
      ],
      "text/latex": [
       "683"
      ],
      "text/markdown": [
       "683"
      ],
      "text/plain": [
       "[1] 683"
      ]
     },
     "metadata": {},
     "output_type": "display_data"
    }
   ],
   "source": [
    "nrow(breast_data)"
   ]
  },
  {
   "cell_type": "code",
   "execution_count": 4,
   "metadata": {
    "collapsed": false
   },
   "outputs": [
    {
     "data": {
      "text/html": [
       "2.25563909774436"
      ],
      "text/latex": [
       "2.25563909774436"
      ],
      "text/markdown": [
       "2.25563909774436"
      ],
      "text/plain": [
       "[1] 2.255639"
      ]
     },
     "metadata": {},
     "output_type": "display_data"
    }
   ],
   "source": [
    "breast_data$V11 = as.factor(breast_data$V11)\n",
    "set.seed(1)\n",
    "train = sample(nrow(breast_data),550)\n",
    "glm.fit = glm(V11~.,data=breast_data,family=binomial,subset=train)\n",
    "glm.prob = predict(glm.fit,newdata=breast_data[-train,],type=\"response\")\n",
    "glm.pred = rep(2,length(glm.prob))\n",
    "glm.pred[glm.prob>0.5]=4\n",
    "mean(glm.pred!=breast_data[-train,]$V11)*100"
   ]
  },
  {
   "cell_type": "code",
   "execution_count": 5,
   "metadata": {
    "collapsed": false
   },
   "outputs": [
    {
     "data": {
      "text/html": [
       "97.7443609022556"
      ],
      "text/latex": [
       "97.7443609022556"
      ],
      "text/markdown": [
       "97.7443609022556"
      ],
      "text/plain": [
       "[1] 97.74436"
      ]
     },
     "metadata": {},
     "output_type": "display_data"
    }
   ],
   "source": [
    "#accuracy\n",
    "mean(glm.pred==breast_data[-train,]$V11)*100"
   ]
  },
  {
   "cell_type": "code",
   "execution_count": 6,
   "metadata": {
    "collapsed": false
   },
   "outputs": [
    {
     "data": {
      "text/plain": [
       "\n",
       "Call:\n",
       "glm(formula = V11 ~ ., family = binomial, data = breast_data, \n",
       "    subset = train)\n",
       "\n",
       "Deviance Residuals: \n",
       "    Min       1Q   Median       3Q      Max  \n",
       "-3.4181  -0.1145  -0.0639   0.0231   2.0039  \n",
       "\n",
       "Coefficients:\n",
       "             Estimate Std. Error z value Pr(>|z|)    \n",
       "(Intercept) -10.14349    1.29725  -7.819 5.31e-15 ***\n",
       "V2            0.50161    0.15677   3.200  0.00138 ** \n",
       "V3           -0.08125    0.21424  -0.379  0.70449    \n",
       "V4            0.49669    0.25178   1.973  0.04853 *  \n",
       "V5            0.30697    0.12642   2.428  0.01517 *  \n",
       "V6            0.13494    0.16705   0.808  0.41921    \n",
       "V7            0.28867    0.09704   2.975  0.00293 ** \n",
       "V8            0.49372    0.18590   2.656  0.00791 ** \n",
       "V9            0.22690    0.11776   1.927  0.05401 .  \n",
       "V10           0.47054    0.35130   1.339  0.18043    \n",
       "---\n",
       "Signif. codes:  0 ‘***’ 0.001 ‘**’ 0.01 ‘*’ 0.05 ‘.’ 0.1 ‘ ’ 1\n",
       "\n",
       "(Dispersion parameter for binomial family taken to be 1)\n",
       "\n",
       "    Null deviance: 718.760  on 549  degrees of freedom\n",
       "Residual deviance:  89.434  on 540  degrees of freedom\n",
       "AIC: 109.43\n",
       "\n",
       "Number of Fisher Scoring iterations: 8\n"
      ]
     },
     "metadata": {},
     "output_type": "display_data"
    }
   ],
   "source": [
    "summary(glm.fit)"
   ]
  },
  {
   "cell_type": "code",
   "execution_count": 7,
   "metadata": {
    "collapsed": false
   },
   "outputs": [
    {
     "data": {
      "text/html": [
       "0.8775012755076"
      ],
      "text/latex": [
       "0.8775012755076"
      ],
      "text/markdown": [
       "0.8775012755076"
      ],
      "text/plain": [
       "[1] 0.8775013"
      ]
     },
     "metadata": {},
     "output_type": "display_data"
    }
   ],
   "source": [
    "#v3 - uniformity of cell size v5- uniformity of cell shape\n",
    "#find correlation between these attributes and the output\n",
    "cor(glm.prob,breast_data[-train,]$V3)"
   ]
  },
  {
   "cell_type": "code",
   "execution_count": 8,
   "metadata": {
    "collapsed": false
   },
   "outputs": [
    {
     "data": {
      "text/html": [
       "0.856029034049229"
      ],
      "text/latex": [
       "0.856029034049229"
      ],
      "text/markdown": [
       "0.856029034049229"
      ],
      "text/plain": [
       "[1] 0.856029"
      ]
     },
     "metadata": {},
     "output_type": "display_data"
    }
   ],
   "source": [
    "cor(glm.prob,breast_data[-train,]$V4)"
   ]
  },
  {
   "cell_type": "code",
   "execution_count": 10,
   "metadata": {
    "collapsed": false
   },
   "outputs": [
    {
     "data": {
      "text/html": [
       "0.494836669979208"
      ],
      "text/latex": [
       "0.494836669979208"
      ],
      "text/markdown": [
       "0.494836669979208"
      ],
      "text/plain": [
       "[1] 0.4948367"
      ]
     },
     "metadata": {},
     "output_type": "display_data"
    }
   ],
   "source": [
    "cor(glm.prob,breast_data[-train,]$V10)"
   ]
  },
  {
   "cell_type": "code",
   "execution_count": null,
   "metadata": {
    "collapsed": true
   },
   "outputs": [],
   "source": []
  }
 ],
 "metadata": {
  "kernelspec": {
   "display_name": "R",
   "language": "R",
   "name": "ir"
  },
  "language_info": {
   "codemirror_mode": "r",
   "file_extension": ".r",
   "mimetype": "text/x-r-source",
   "name": "R",
   "pygments_lexer": "r",
   "version": "3.2.2"
  }
 },
 "nbformat": 4,
 "nbformat_minor": 0
}
